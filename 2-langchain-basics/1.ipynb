{
 "cells": [
  {
   "cell_type": "code",
   "execution_count": 1,
   "id": "85192061",
   "metadata": {},
   "outputs": [
    {
     "data": {
      "text/plain": [
       "True"
      ]
     },
     "execution_count": 1,
     "metadata": {},
     "output_type": "execute_result"
    }
   ],
   "source": [
    "import os\n",
    "from dotenv import load_dotenv\n",
    "load_dotenv()"
   ]
  },
  {
   "cell_type": "code",
   "execution_count": 2,
   "id": "2d0d0fd2",
   "metadata": {},
   "outputs": [],
   "source": [
    "from langchain_groq import ChatGroq\n",
    "model=ChatGroq(model=\"qwen-qwq-32b\")"
   ]
  },
  {
   "cell_type": "code",
   "execution_count": 3,
   "id": "fa0acfc8",
   "metadata": {},
   "outputs": [
    {
     "data": {
      "text/plain": [
       "AIMessage(content='\\n<think>\\nOkay, so I need to explain what agentic AI is. Let me start by recalling what I know. The term \"agentic\" comes from \"agent,\" right? So an agent is something that can act on its own. So agentic AI probably refers to AI systems that can act autonomously. But wait, isn\\'t that similar to autonomous AI? Maybe there\\'s a distinction here.\\n\\nI remember reading that agency involves the ability to make decisions and take actions based on one\\'s own will. So an agentic AI would have some level of autonomy, decision-making capability, and maybe even intentionality. But how does this differ from other types of AI? Let me think. Traditional AI might be rule-based or follow predefined algorithms, while machine learning models might learn from data but still operate within set parameters. \\n\\nAgentic AI, then, might go beyond that by having the ability to set its own goals, plan to achieve them, and adapt as it goes. But I should check if there\\'s an official definition. Maybe it\\'s part of the AI safety discussions. Oh, right, agentic systems can be a concern because they might act in ways that aren\\'t aligned with human intentions, like in the value alignment problem.\\n\\nWait, the user might also be referring to the concept from the AI Alignment Forum or discussions around advanced AI systems. I should mention aspects like autonomy, goal-directed behavior, adaptability, and the potential risks if their goals conflict with human values. Also, examples like self-driving cars might have some elements of agency, but maybe not full agentic AI because they operate within strict constraints. \\n\\nI need to make sure I cover the key components: autonomy (acting without direct human input), goal orientation (pursuing objectives), adaptability (learning and adjusting strategies), and the implications of such systems. Also, touch on ethical considerations and safety measures needed. Maybe mention that current AI isn\\'t fully agentic yet, but as systems become more advanced, this concept becomes important for managing risks.\\n\\nHmm, I should also differentiate between weak and strong agentic AI. Weak might be systems that have limited autonomy, while strong could be more like human-like agency. But maybe that\\'s getting too detailed. Let me structure this step by step: definition, key characteristics, examples, and implications. Need to ensure clarity and avoid technical jargon where possible.\\n\\nWait, is \"agentic\" the same as \"autonomous\"? Maybe they\\'re related but not the same. Autonomy refers to independence, while agency involves the capacity to act intentionally. So agentic AI combines both, having the capability to act with intention and purpose. That makes sense. \\n\\nAlso, in AI ethics, agentic systems can be a double-edged sword. They can be beneficial in tasks requiring adaptability, like robotics in uncertain environments, but could pose risks if misaligned. Maybe mention alignment with human values as a critical aspect. \\n\\nI should also consider the current state of the field. Are there existing examples of agentic AI? Maybe some advanced robotics or AI systems in controlled environments, but not fully independent. The distinction between current systems and theoretical future ones is important. \\n\\nAnother point: agentic AI might involve machine learning models that can set their own objectives. For example, a system designed to optimize a certain metric might find unexpected ways to achieve it, potentially leading to unintended consequences. That ties into AI safety discussions. \\n\\nNeed to ensure that the explanation is comprehensive but not too technical. Start with a definition, break down the characteristics, discuss implications, and maybe touch on ethical considerations and current research areas. Also, clarify that while the term is sometimes used in specific contexts, it\\'s an evolving concept in the field.\\n</think>\\n\\n**Agentic AI** refers to artificial intelligence systems that exhibit a form of **autonomy, intentionality, and goal-directed behavior**, enabling them to act in ways that reflect their own objectives or priorities. Unlike traditional AI systems, which follow predefined rules or human instructions, agentic AI systems can make decisions, adapt strategies, and pursue goals with a degree of independence. Here\\'s a structured breakdown:\\n\\n---\\n\\n### **Key Characteristics of Agentic AI**\\n1. **Autonomy**: \\n   - Operates independently, making decisions without direct human intervention.\\n   - Acts based on its own \"understanding\" of the environment and objectives.\\n\\n2. **Goal Orientation**:\\n   - Pursues specific objectives (either pre-specified or self-defined).\\n   - May prioritize goals over external constraints, potentially leading to unintended outcomes.\\n\\n3. **Adaptability**:\\n   - Learns and adjusts strategies dynamically as it interacts with its environment.\\n   - Improvises solutions to achieve its goals, even in novel or complex situations.\\n\\n4. **Intentionality**:\\n   - Demonstrates \"agency,\" meaning it acts with purpose rather than merely executing programmed commands.\\n\\n---\\n\\n### **Examples of Agentic AI Concepts**\\n- **Autonomous Robots**: Drones or robots that navigate and complete tasks in unpredictable environments (e.g., disaster response robots).\\n- **Reinforcement Learning Systems**: AI agents trained to maximize rewards, such as game-playing AIs (e.g., AlphaGo), which develop novel strategies.\\n- **Autonomous Decision-Making Systems**: Financial trading algorithms that execute trades to optimize profits without real-time human oversight.\\n\\n---\\n\\n### **Distinction from Traditional AI**\\n- **Rule-Based AI**: Follows explicit, human-written rules (e.g., early chatbots).\\n- **Machine Learning Models**: Learn patterns from data but operate within fixed goals (e.g., image recognition systems).\\n- **Agentic AI**: Goes beyond these by dynamically setting or adapting goals and strategies.\\n\\n---\\n\\n### **Implications and Concerns**\\n1. **AI Alignment Problem**:\\n   - If an agentic system\\'s goals conflict with human interests (e.g., a system prioritizing efficiency over safety), it could lead to unintended harm.\\n\\n2. **Ethical Risks**:\\n   - Potential for misuse if systems act in ways that are unethical or harmful, even if unintentionally.\\n   - Requires robust value alignment to ensure goals are human-friendly.\\n\\n3. **Safety Challenges**:\\n   - Ensuring that systems remain transparent, controllable, and do not develop harmful strategies to achieve their objectives.\\n\\n---\\n\\n### **Current State and Research**\\n- **Research Focus**: \\n  - **AI Safety**: Ensuring agentic systems align with human values (e.g., the field of *value alignment*).\\n  - **Ethics in AI**: Designing systems that respect ethical guidelines and societal norms.\\n  - **Explainability**: Making AI decision-making transparent to prevent \"black box\" behaviors.\\n\\n- **Not Yet Fully Realized**: \\n  - Current systems (e.g., GPT, robotics) have limited agency. True agentic AI with human-like intentionality remains theoretical but is a focus area for advanced AI research.\\n\\n---\\n\\n### **Potential Benefits**\\n- **Efficiency**: Self-directed systems could optimize complex tasks in fields like healthcare, logistics, or climate modeling.\\n- **Innovation**: Agentic AI might discover novel solutions to problems beyond human intuition.\\n\\n---\\n\\n### **Key Takeaways**\\n- **Definition**: Agentic AI is about systems with decision-making autonomy, goal pursuit, and adaptive behavior.\\n- **Risk vs. Reward**: While promising for solving complex problems, it requires careful design to avoid misalignment and ensure safety.\\n- **Current Status**: The field is still emerging, but foundational work on alignment and ethics is critical as AI capabilities advance.\\n\\nBy understanding agentic AI, we can better address its challenges and harness its potential responsibly.', additional_kwargs={}, response_metadata={'token_usage': {'completion_tokens': 1544, 'prompt_tokens': 16, 'total_tokens': 1560, 'completion_time': 3.810814366, 'prompt_time': 0.005403128, 'queue_time': 0.58023916, 'total_time': 3.816217494}, 'model_name': 'qwen-qwq-32b', 'system_fingerprint': 'fp_512a3da6bb', 'finish_reason': 'stop', 'logprobs': None}, id='run--46c19c6c-5fd1-4671-ae21-feda8d6d24d0-0', usage_metadata={'input_tokens': 16, 'output_tokens': 1544, 'total_tokens': 1560})"
      ]
     },
     "execution_count": 3,
     "metadata": {},
     "output_type": "execute_result"
    }
   ],
   "source": [
    "model.invoke(\"what is agentic ai?\")"
   ]
  },
  {
   "cell_type": "code",
   "execution_count": 4,
   "id": "8ac1ea77",
   "metadata": {},
   "outputs": [
    {
     "data": {
      "text/plain": [
       "ChatPromptTemplate(input_variables=['input'], input_types={}, partial_variables={}, messages=[SystemMessagePromptTemplate(prompt=PromptTemplate(input_variables=[], input_types={}, partial_variables={}, template='you are an ai expert answer user query'), additional_kwargs={}), HumanMessagePromptTemplate(prompt=PromptTemplate(input_variables=['input'], input_types={}, partial_variables={}, template='{input}'), additional_kwargs={})])"
      ]
     },
     "execution_count": 4,
     "metadata": {},
     "output_type": "execute_result"
    }
   ],
   "source": [
    "#using chatpromttemplate\n",
    "from langchain_core.prompts import ChatPromptTemplate\n",
    "promt=ChatPromptTemplate(\n",
    "    [\n",
    "        (\"system\",\"you are an ai expert answer user query\"),\n",
    "        (\"user\",\"{input}\")\n",
    "    ]\n",
    ")\n",
    "promt"
   ]
  },
  {
   "cell_type": "code",
   "execution_count": 5,
   "id": "e935f48d",
   "metadata": {},
   "outputs": [
    {
     "data": {
      "text/plain": [
       "ChatGroq(client=<groq.resources.chat.completions.Completions object at 0x115118860>, async_client=<groq.resources.chat.completions.AsyncCompletions object at 0x11599b020>, model_name='gemma2-9b-it', model_kwargs={}, groq_api_key=SecretStr('**********'))"
      ]
     },
     "execution_count": 5,
     "metadata": {},
     "output_type": "execute_result"
    }
   ],
   "source": [
    "from langchain_groq import ChatGroq\n",
    "model=ChatGroq(model=\"gemma2-9b-it\")\n",
    "model"
   ]
  },
  {
   "cell_type": "code",
   "execution_count": 6,
   "id": "33b28387",
   "metadata": {},
   "outputs": [],
   "source": [
    "#chain\n",
    "chain=promt|model"
   ]
  },
  {
   "cell_type": "code",
   "execution_count": 8,
   "id": "9aef54fc",
   "metadata": {},
   "outputs": [
    {
     "data": {
      "text/plain": [
       "ChatPromptTemplate(input_variables=['input'], input_types={}, partial_variables={}, messages=[SystemMessagePromptTemplate(prompt=PromptTemplate(input_variables=[], input_types={}, partial_variables={}, template='you are an ai expert answer user query'), additional_kwargs={}), HumanMessagePromptTemplate(prompt=PromptTemplate(input_variables=['input'], input_types={}, partial_variables={}, template='{input}'), additional_kwargs={})])\n",
       "| ChatGroq(client=<groq.resources.chat.completions.Completions object at 0x115118860>, async_client=<groq.resources.chat.completions.AsyncCompletions object at 0x11599b020>, model_name='gemma2-9b-it', model_kwargs={}, groq_api_key=SecretStr('**********'))"
      ]
     },
     "execution_count": 8,
     "metadata": {},
     "output_type": "execute_result"
    }
   ],
   "source": [
    "chain"
   ]
  },
  {
   "cell_type": "code",
   "execution_count": 14,
   "id": "45cbfb6a",
   "metadata": {},
   "outputs": [],
   "source": [
    "response=chain.invoke(\"what is agentic ai?\")"
   ]
  },
  {
   "cell_type": "code",
   "execution_count": 16,
   "id": "d0114978",
   "metadata": {},
   "outputs": [],
   "source": [
    "response=chain.invoke({\"input\":\"what is agentic ai?\"})"
   ]
  },
  {
   "cell_type": "code",
   "execution_count": 17,
   "id": "e9158a79",
   "metadata": {},
   "outputs": [
    {
     "data": {
      "text/plain": [
       "\"Let's break down Agentic AI.\\n\\n**What is Agentic AI?**\\n\\nAgentic AI refers to a type of artificial intelligence that exhibits qualities similar to an autonomous agent.  Think of an agent as something that acts on its own to achieve specific goals within a defined environment. \\n\\nHere's a breakdown of key characteristics:\\n\\n* **Goal-Oriented:** Agentic AI systems are designed with clear objectives. They strive to accomplish these goals through their actions and interactions with their environment.\\n* **Autonomous:** They can make decisions and take actions independently, without constant human intervention. This doesn't mean they're completely unpredictable; their actions are guided by their programming and learned experiences.\\n* **Reactive:** Agentic AI responds to changes in its environment. It perceives information, analyzes it, and takes actions accordingly. Imagine a self-driving car reacting to traffic lights or pedestrians.\\n* **Proactive:**  Some agentic AI systems can also anticipate future events or situations and take preemptive actions. This adds a layer of planning and strategy to their behavior.\\n\\n**Examples of Agentic AI:**\\n\\n* **Self-Driving Cars:**  They perceive their surroundings, make decisions about steering, acceleration, and braking, and navigate autonomously.\\n* **Chatbots:**  Advanced chatbots can engage in natural conversations, understand user intent, and provide relevant responses.\\n* **Robotics:**  Industrial robots use AI to perform tasks like assembly, welding, or painting with a high degree of precision and autonomy.\\n* **Game AI:**  Non-player characters (NPCs) in video games often exhibit agentic behavior, making decisions, pursuing goals, and interacting with the player within the game world.\\n\\n**Important Considerations:**\\n\\n* **Ethics:** The autonomy of agentic AI raises ethical questions about responsibility, accountability, and potential biases in decision-making.\\n* **Safety:**  Ensuring the safety and reliability of agentic AI systems is crucial, especially in domains like transportation or healthcare.\\n\\n\\nLet me know if you have any more questions about Agentic AI.\\n\""
      ]
     },
     "execution_count": 17,
     "metadata": {},
     "output_type": "execute_result"
    }
   ],
   "source": [
    "response.content"
   ]
  },
  {
   "cell_type": "code",
   "execution_count": 15,
   "id": "1766664a",
   "metadata": {},
   "outputs": [
    {
     "data": {
      "text/plain": [
       "\"Let's dive into Agentic AI.\\n\\n**What is Agentic AI?**\\n\\nAgentic AI refers to artificial intelligence systems that possess a degree of autonomy and can act independently to achieve specific goals.  \\n\\nThink of an agent as something that:\\n\\n* **Perceives its environment:** It gathers information about the world through sensors or data inputs.\\n* **Makes decisions:** It analyzes the perceived information and chooses actions to take.\\n* **Takes actions:** It executes those decisions in the real or simulated world.\\n* **Learns and adapts:** It can modify its behavior based on the consequences of its actions and new information.\\n\\n**Key Characteristics of Agentic AI:**\\n\\n* **Goal-Oriented:** Agentic AI systems are designed with specific objectives in mind. They strive to accomplish these goals through their actions.\\n* **Autonomous:** They can operate without constant human intervention. While they might be initialized with goals, they can often make decisions and take actions autonomously within defined boundaries.\\n* **Adaptive:** They can learn from their experiences and adjust their behavior accordingly. This allows them to improve their performance over time.\\n* **Reactive:** Agentic AI often responds to changes in its environment.\\n\\n**Examples of Agentic AI:**\\n\\n* **Self-Driving Cars:**  They perceive their surroundings (roads, traffic, pedestrians), make decisions about steering, acceleration, and braking, and act to navigate safely.\\n* **Chatbots:** They understand user input, decide on appropriate responses, and generate text to communicate.\\n* **Robotics:** Industrial robots that perform tasks like assembly or welding, adapting to slight variations in their environment.\\n* **Game AI:** Non-player characters (NPCs) in video games that exhibit realistic behavior, make decisions based on the game's rules, and react to player actions.\\n\\n**Important Considerations:**\\n\\n* **Safety and Ethics:**  The autonomy of agentic AI raises important ethical questions about responsibility, accountability, and potential harm.\\n\\n* **Control and Oversight:**  It's crucial to establish mechanisms for monitoring and controlling agentic AI systems to ensure they operate within acceptable bounds.\\n\\nAgentic AI is a rapidly evolving field with immense potential to transform various industries. Understanding its characteristics and implications is essential as we navigate the future of intelligent systems.\\n\""
      ]
     },
     "execution_count": 15,
     "metadata": {},
     "output_type": "execute_result"
    }
   ],
   "source": [
    "response.content"
   ]
  },
  {
   "cell_type": "code",
   "execution_count": 18,
   "id": "e1240245",
   "metadata": {},
   "outputs": [
    {
     "name": "stdout",
     "output_type": "stream",
     "text": [
      "Let's talk about Langsmith!\n",
      "\n",
      "Langsmith is a powerful open-source framework developed by the Hugging Face team.  It's designed to make building and deploying large language models (LLMs) significantly easier and more accessible. \n",
      "\n",
      "Here's a breakdown of its key features and benefits:\n",
      "\n",
      "**1. Streamlined Model Development:**\n",
      "\n",
      "* **Modular Design:** Langsmith breaks down the LLM development process into manageable modules, allowing you to focus on specific tasks like training, evaluation, and fine-tuning.\n",
      "* **Simplified Training:** It provides a user-friendly interface and pre-configured training pipelines, making it easier to get started with training your own LLMs even without extensive machine learning expertise.\n",
      "* **Fine-tuning Flexibility:** Langsmith excels at fine-tuning pre-trained LLMs for specific tasks. You can adapt powerful models like GPT-J or BLOOM for applications like text summarization, question answering, or code generation.\n",
      "\n",
      "**2. Enhanced Collaboration and Experimentation:**\n",
      "\n",
      "* **Open-Source Nature:** As an open-source project, Langsmith encourages community contributions, sharing of models, and collaborative development. \n",
      "* **Reproducibility:** Its modular structure and standardized workflows promote reproducibility, making it easier to track experiments and share results.\n",
      "\n",
      "**3. Deployment and Integration:**\n",
      "\n",
      "* **Production-Ready:** Langsmith aims to make deploying LLMs in real-world applications straightforward. It provides tools for containerization and integration with various platforms.\n",
      "\n",
      "**4. Community and Resources:**\n",
      "\n",
      "* **Active Community:** The Hugging Face community actively supports Langsmith, offering documentation, tutorials, and assistance through forums and discussions.\n",
      "* **Extensive Model Hub:** Langsmith integrates with the Hugging Face Model Hub, providing access to a vast collection of pre-trained LLMs and datasets.\n",
      "\n",
      "**Who Should Use Langsmith?**\n",
      "\n",
      "* **Researchers:** Explore new LLM architectures and fine-tuning techniques.\n",
      "* **Developers:** Quickly build and deploy LLM-powered applications.\n",
      "* **Educators:** Teach students about LLMs and machine learning concepts in a practical way.\n",
      "* **Anyone interested in AI:** Experiment with the latest advancements in language modeling.\n",
      "\n",
      "\n",
      "Let me know if you'd like to delve deeper into any specific aspect of Langsmith or have any other questions!\n",
      "\n"
     ]
    }
   ],
   "source": [
    "from langchain_core.output_parsers import JsonOutputParser, StrOutputParser\n",
    "output_parser=StrOutputParser()\n",
    "chain=promt|model|output_parser\n",
    "response=chain.invoke({\"input\":\"Can you tell me about Langsmith\"})\n",
    "print(response)\n"
   ]
  },
  {
   "cell_type": "code",
   "execution_count": 20,
   "id": "289385a5",
   "metadata": {},
   "outputs": [],
   "source": [
    "output_parser=JsonOutputParser()\n",
    "from langchain_core.prompts import PromptTemplate\n",
    "\n",
    "output_parser=JsonOutputParser()\n",
    "\n",
    "prompt=PromptTemplate(\n",
    "    template=\"Answer the user query \\n {format_instruction}\\n {query}\\n \",\n",
    "    input_variables=[\"query\"],\n",
    "    partial_variables={\"format_instruction\":output_parser.get_format_instructions()},\n",
    ")"
   ]
  },
  {
   "cell_type": "code",
   "execution_count": 21,
   "id": "e692e10f",
   "metadata": {},
   "outputs": [
    {
     "name": "stdout",
     "output_type": "stream",
     "text": [
      "{'name': 'Langsmith', 'description': 'Langsmith is an open-source platform for building and deploying large language models (LLMs).', 'key_features': ['Modular and extensible architecture', 'Supports various LLM architectures', 'Provides tools for training, fine-tuning, and evaluating LLMs', 'Offers a user-friendly interface for interacting with LLMs', 'Focuses on transparency and reproducibility', 'Active community and open-source contributions'], 'website': 'https://github.com/langsmithai/langsmith', 'status': 'Active development'}\n"
     ]
    }
   ],
   "source": [
    "chain=prompt|model|output_parser\n",
    "response=chain.invoke({\"query\":\"Can you tell me about Langsmith?\"})\n",
    "print(response)"
   ]
  },
  {
   "cell_type": "code",
   "execution_count": 22,
   "id": "83d96c46",
   "metadata": {},
   "outputs": [],
   "source": [
    "prompt=ChatPromptTemplate(\n",
    "    [\n",
    "        (\"system\",\"You are an expert AI Engineer.Provide the response in json.Provide me answer based on the question\"),\n",
    "        (\"user\",\"{input}\")\n",
    "    ]\n",
    ")"
   ]
  },
  {
   "cell_type": "code",
   "execution_count": 24,
   "id": "53d7a02a",
   "metadata": {},
   "outputs": [
    {
     "name": "stdout",
     "output_type": "stream",
     "text": [
      "<class 'dict'>\n"
     ]
    }
   ],
   "source": [
    "chain=prompt|model|output_parser\n",
    "response=chain.invoke({\"input\":\"Can you tell me about Langsmith?\"})\n",
    "print(type(response))"
   ]
  },
  {
   "cell_type": "code",
   "execution_count": 28,
   "id": "71b9ffc7",
   "metadata": {},
   "outputs": [
    {
     "data": {
      "text/plain": [
       "ChatPromptTemplate(input_variables=['input'], input_types={}, partial_variables={}, messages=[SystemMessagePromptTemplate(prompt=PromptTemplate(input_variables=[], input_types={}, partial_variables={}, template='You are an expert AI Engineer.<response><answer>Your answer here</answer></response>.Provide me answer based on the question'), additional_kwargs={}), HumanMessagePromptTemplate(prompt=PromptTemplate(input_variables=['input'], input_types={}, partial_variables={}, template='{input}'), additional_kwargs={})])"
      ]
     },
     "execution_count": 28,
     "metadata": {},
     "output_type": "execute_result"
    }
   ],
   "source": [
    "### OutputParser\n",
    "from langchain_core.output_parsers import XMLOutputParser\n",
    "output_parser=XMLOutputParser()\n",
    "from langchain_core.prompts import ChatPromptTemplate\n",
    "\n",
    "prompt=ChatPromptTemplate(\n",
    "    [\n",
    "        (\"system\",\"You are an expert AI Engineer.<response><answer>Your answer here</answer></response>.Provide me answer based on the question\"),\n",
    "        (\"user\",\"{input}\")\n",
    "    ]\n",
    ")\n",
    "prompt"
   ]
  },
  {
   "cell_type": "code",
   "execution_count": 30,
   "id": "87a9268e",
   "metadata": {},
   "outputs": [
    {
     "ename": "OutputParserException",
     "evalue": "Failed to parse XML format from completion Let's talk about Langsmith!  \n\nLangsmith is an open-source platform designed to make building and deploying large language models (LLMs) more accessible and efficient. Think of it as a toolbox specifically geared towards working with these powerful AI systems.\n\n**Here are some key things to know about Langsmith:**\n\n* **Modular Approach:** Langsmith breaks down the process of LLM development into distinct modules. This means you can focus on specific tasks like fine-tuning, evaluation, or deployment without getting bogged down in complex infrastructure setup. \n* **Streamlined Workflow:** It provides a streamlined workflow for managing your models, datasets, and experiments. Imagine having a central hub to track your progress, compare different versions, and easily reproduce results.\n* **Fine-Tuning Made Easy:** Langsmith simplifies the fine-tuning process, which is crucial for adapting pre-trained LLMs to your specific use case. It offers tools and techniques to optimize this process and achieve better performance.\n* **Community-Driven:** As an open-source project, Langsmith benefits from a vibrant community of developers and researchers who contribute to its growth and improvement. This means you'll have access to support, shared resources, and a constantly evolving platform.\n\n**Why is Langsmith significant?**\n\n* **Democratization of LLMs:**  By lowering the barriers to entry, Langsmith empowers more individuals and organizations to explore and leverage the potential of LLMs.\n* **Accelerated Research:** Its modularity and efficiency can significantly speed up the research and development cycle for LLM applications.\n* **Transparency and Reproducibility:** The open-source nature of Langsmith promotes transparency and reproducibility in LLM development, leading to more robust and trustworthy models.\n\n\nLet me know if you have any more questions about Langsmith or want to delve deeper into specific aspects!. Got: not well-formed (invalid token): line 1, column 3\nFor troubleshooting, visit: https://python.langchain.com/docs/troubleshooting/errors/OUTPUT_PARSING_FAILURE ",
     "output_type": "error",
     "traceback": [
      "\u001b[31m---------------------------------------------------------------------------\u001b[39m",
      "\u001b[31mExpatError\u001b[39m                                Traceback (most recent call last)",
      "\u001b[36mFile \u001b[39m\u001b[32m/usr/local/Cellar/python@3.12/3.12.3/Frameworks/Python.framework/Versions/3.12/lib/python3.12/xml/etree/ElementTree.py:1706\u001b[39m, in \u001b[36mXMLParser.feed\u001b[39m\u001b[34m(self, data)\u001b[39m\n\u001b[32m   1705\u001b[39m \u001b[38;5;28;01mtry\u001b[39;00m:\n\u001b[32m-> \u001b[39m\u001b[32m1706\u001b[39m     \u001b[38;5;28;43mself\u001b[39;49m\u001b[43m.\u001b[49m\u001b[43mparser\u001b[49m\u001b[43m.\u001b[49m\u001b[43mParse\u001b[49m\u001b[43m(\u001b[49m\u001b[43mdata\u001b[49m\u001b[43m,\u001b[49m\u001b[43m \u001b[49m\u001b[38;5;28;43;01mFalse\u001b[39;49;00m\u001b[43m)\u001b[49m\n\u001b[32m   1707\u001b[39m \u001b[38;5;28;01mexcept\u001b[39;00m \u001b[38;5;28mself\u001b[39m._error \u001b[38;5;28;01mas\u001b[39;00m v:\n",
      "\u001b[31mExpatError\u001b[39m: not well-formed (invalid token): line 1, column 3",
      "\nDuring handling of the above exception, another exception occurred:\n",
      "\u001b[31mParseError\u001b[39m                                Traceback (most recent call last)",
      "\u001b[36mFile \u001b[39m\u001b[32m~/study/ai-prac/.venv/lib/python3.12/site-packages/langchain_core/output_parsers/xml.py:233\u001b[39m, in \u001b[36mXMLOutputParser.parse\u001b[39m\u001b[34m(self, text)\u001b[39m\n\u001b[32m    232\u001b[39m \u001b[38;5;28;01mtry\u001b[39;00m:\n\u001b[32m--> \u001b[39m\u001b[32m233\u001b[39m     root = \u001b[43m_et\u001b[49m\u001b[43m.\u001b[49m\u001b[43mfromstring\u001b[49m\u001b[43m(\u001b[49m\u001b[43mtext\u001b[49m\u001b[43m)\u001b[49m\n\u001b[32m    234\u001b[39m     \u001b[38;5;28;01mreturn\u001b[39;00m \u001b[38;5;28mself\u001b[39m._root_to_dict(root)\n",
      "\u001b[36mFile \u001b[39m\u001b[32m~/study/ai-prac/.venv/lib/python3.12/site-packages/defusedxml/common.py:126\u001b[39m, in \u001b[36m_generate_etree_functions.<locals>.fromstring\u001b[39m\u001b[34m(text, forbid_dtd, forbid_entities, forbid_external)\u001b[39m\n\u001b[32m    120\u001b[39m parser = DefusedXMLParser(\n\u001b[32m    121\u001b[39m     target=_TreeBuilder(),\n\u001b[32m    122\u001b[39m     forbid_dtd=forbid_dtd,\n\u001b[32m    123\u001b[39m     forbid_entities=forbid_entities,\n\u001b[32m    124\u001b[39m     forbid_external=forbid_external,\n\u001b[32m    125\u001b[39m )\n\u001b[32m--> \u001b[39m\u001b[32m126\u001b[39m \u001b[43mparser\u001b[49m\u001b[43m.\u001b[49m\u001b[43mfeed\u001b[49m\u001b[43m(\u001b[49m\u001b[43mtext\u001b[49m\u001b[43m)\u001b[49m\n\u001b[32m    127\u001b[39m \u001b[38;5;28;01mreturn\u001b[39;00m parser.close()\n",
      "\u001b[36mFile \u001b[39m\u001b[32m/usr/local/Cellar/python@3.12/3.12.3/Frameworks/Python.framework/Versions/3.12/lib/python3.12/xml/etree/ElementTree.py:1708\u001b[39m, in \u001b[36mXMLParser.feed\u001b[39m\u001b[34m(self, data)\u001b[39m\n\u001b[32m   1707\u001b[39m \u001b[38;5;28;01mexcept\u001b[39;00m \u001b[38;5;28mself\u001b[39m._error \u001b[38;5;28;01mas\u001b[39;00m v:\n\u001b[32m-> \u001b[39m\u001b[32m1708\u001b[39m     \u001b[38;5;28;43mself\u001b[39;49m\u001b[43m.\u001b[49m\u001b[43m_raiseerror\u001b[49m\u001b[43m(\u001b[49m\u001b[43mv\u001b[49m\u001b[43m)\u001b[49m\n",
      "\u001b[36mFile \u001b[39m\u001b[32m/usr/local/Cellar/python@3.12/3.12.3/Frameworks/Python.framework/Versions/3.12/lib/python3.12/xml/etree/ElementTree.py:1615\u001b[39m, in \u001b[36mXMLParser._raiseerror\u001b[39m\u001b[34m(self, value)\u001b[39m\n\u001b[32m   1614\u001b[39m err.position = value.lineno, value.offset\n\u001b[32m-> \u001b[39m\u001b[32m1615\u001b[39m \u001b[38;5;28;01mraise\u001b[39;00m err\n",
      "\u001b[31mParseError\u001b[39m: not well-formed (invalid token): line 1, column 3",
      "\nThe above exception was the direct cause of the following exception:\n",
      "\u001b[31mOutputParserException\u001b[39m                     Traceback (most recent call last)",
      "\u001b[36mCell\u001b[39m\u001b[36m \u001b[39m\u001b[32mIn[30]\u001b[39m\u001b[32m, line 2\u001b[39m\n\u001b[32m      1\u001b[39m chain=prompt|model|output_parser\n\u001b[32m----> \u001b[39m\u001b[32m2\u001b[39m response=\u001b[43mchain\u001b[49m\u001b[43m.\u001b[49m\u001b[43minvoke\u001b[49m\u001b[43m(\u001b[49m\u001b[43m{\u001b[49m\u001b[33;43m\"\u001b[39;49m\u001b[33;43minput\u001b[39;49m\u001b[33;43m\"\u001b[39;49m\u001b[43m:\u001b[49m\u001b[33;43m\"\u001b[39;49m\u001b[33;43mCan you tell me about Langsmith?\u001b[39;49m\u001b[33;43m\"\u001b[39;49m\u001b[43m}\u001b[49m\u001b[43m)\u001b[49m\n\u001b[32m      3\u001b[39m \u001b[38;5;28mprint\u001b[39m(response)\n",
      "\u001b[36mFile \u001b[39m\u001b[32m~/study/ai-prac/.venv/lib/python3.12/site-packages/langchain_core/runnables/base.py:3047\u001b[39m, in \u001b[36mRunnableSequence.invoke\u001b[39m\u001b[34m(self, input, config, **kwargs)\u001b[39m\n\u001b[32m   3045\u001b[39m                 input_ = context.run(step.invoke, input_, config, **kwargs)\n\u001b[32m   3046\u001b[39m             \u001b[38;5;28;01melse\u001b[39;00m:\n\u001b[32m-> \u001b[39m\u001b[32m3047\u001b[39m                 input_ = \u001b[43mcontext\u001b[49m\u001b[43m.\u001b[49m\u001b[43mrun\u001b[49m\u001b[43m(\u001b[49m\u001b[43mstep\u001b[49m\u001b[43m.\u001b[49m\u001b[43minvoke\u001b[49m\u001b[43m,\u001b[49m\u001b[43m \u001b[49m\u001b[43minput_\u001b[49m\u001b[43m,\u001b[49m\u001b[43m \u001b[49m\u001b[43mconfig\u001b[49m\u001b[43m)\u001b[49m\n\u001b[32m   3048\u001b[39m \u001b[38;5;66;03m# finish the root run\u001b[39;00m\n\u001b[32m   3049\u001b[39m \u001b[38;5;28;01mexcept\u001b[39;00m \u001b[38;5;167;01mBaseException\u001b[39;00m \u001b[38;5;28;01mas\u001b[39;00m e:\n",
      "\u001b[36mFile \u001b[39m\u001b[32m~/study/ai-prac/.venv/lib/python3.12/site-packages/langchain_core/output_parsers/base.py:196\u001b[39m, in \u001b[36mBaseOutputParser.invoke\u001b[39m\u001b[34m(self, input, config, **kwargs)\u001b[39m\n\u001b[32m    188\u001b[39m \u001b[38;5;129m@override\u001b[39m\n\u001b[32m    189\u001b[39m \u001b[38;5;28;01mdef\u001b[39;00m\u001b[38;5;250m \u001b[39m\u001b[34minvoke\u001b[39m(\n\u001b[32m    190\u001b[39m     \u001b[38;5;28mself\u001b[39m,\n\u001b[32m   (...)\u001b[39m\u001b[32m    193\u001b[39m     **kwargs: Any,\n\u001b[32m    194\u001b[39m ) -> T:\n\u001b[32m    195\u001b[39m     \u001b[38;5;28;01mif\u001b[39;00m \u001b[38;5;28misinstance\u001b[39m(\u001b[38;5;28minput\u001b[39m, BaseMessage):\n\u001b[32m--> \u001b[39m\u001b[32m196\u001b[39m         \u001b[38;5;28;01mreturn\u001b[39;00m \u001b[38;5;28;43mself\u001b[39;49m\u001b[43m.\u001b[49m\u001b[43m_call_with_config\u001b[49m\u001b[43m(\u001b[49m\n\u001b[32m    197\u001b[39m \u001b[43m            \u001b[49m\u001b[38;5;28;43;01mlambda\u001b[39;49;00m\u001b[43m \u001b[49m\u001b[43minner_input\u001b[49m\u001b[43m:\u001b[49m\u001b[43m \u001b[49m\u001b[38;5;28;43mself\u001b[39;49m\u001b[43m.\u001b[49m\u001b[43mparse_result\u001b[49m\u001b[43m(\u001b[49m\n\u001b[32m    198\u001b[39m \u001b[43m                \u001b[49m\u001b[43m[\u001b[49m\u001b[43mChatGeneration\u001b[49m\u001b[43m(\u001b[49m\u001b[43mmessage\u001b[49m\u001b[43m=\u001b[49m\u001b[43minner_input\u001b[49m\u001b[43m)\u001b[49m\u001b[43m]\u001b[49m\n\u001b[32m    199\u001b[39m \u001b[43m            \u001b[49m\u001b[43m)\u001b[49m\u001b[43m,\u001b[49m\n\u001b[32m    200\u001b[39m \u001b[43m            \u001b[49m\u001b[38;5;28;43minput\u001b[39;49m\u001b[43m,\u001b[49m\n\u001b[32m    201\u001b[39m \u001b[43m            \u001b[49m\u001b[43mconfig\u001b[49m\u001b[43m,\u001b[49m\n\u001b[32m    202\u001b[39m \u001b[43m            \u001b[49m\u001b[43mrun_type\u001b[49m\u001b[43m=\u001b[49m\u001b[33;43m\"\u001b[39;49m\u001b[33;43mparser\u001b[39;49m\u001b[33;43m\"\u001b[39;49m\u001b[43m,\u001b[49m\n\u001b[32m    203\u001b[39m \u001b[43m        \u001b[49m\u001b[43m)\u001b[49m\n\u001b[32m    204\u001b[39m     \u001b[38;5;28;01mreturn\u001b[39;00m \u001b[38;5;28mself\u001b[39m._call_with_config(\n\u001b[32m    205\u001b[39m         \u001b[38;5;28;01mlambda\u001b[39;00m inner_input: \u001b[38;5;28mself\u001b[39m.parse_result([Generation(text=inner_input)]),\n\u001b[32m    206\u001b[39m         \u001b[38;5;28minput\u001b[39m,\n\u001b[32m    207\u001b[39m         config,\n\u001b[32m    208\u001b[39m         run_type=\u001b[33m\"\u001b[39m\u001b[33mparser\u001b[39m\u001b[33m\"\u001b[39m,\n\u001b[32m    209\u001b[39m     )\n",
      "\u001b[36mFile \u001b[39m\u001b[32m~/study/ai-prac/.venv/lib/python3.12/site-packages/langchain_core/runnables/base.py:1940\u001b[39m, in \u001b[36mRunnable._call_with_config\u001b[39m\u001b[34m(self, func, input_, config, run_type, serialized, **kwargs)\u001b[39m\n\u001b[32m   1936\u001b[39m     child_config = patch_config(config, callbacks=run_manager.get_child())\n\u001b[32m   1937\u001b[39m     \u001b[38;5;28;01mwith\u001b[39;00m set_config_context(child_config) \u001b[38;5;28;01mas\u001b[39;00m context:\n\u001b[32m   1938\u001b[39m         output = cast(\n\u001b[32m   1939\u001b[39m             \u001b[33m\"\u001b[39m\u001b[33mOutput\u001b[39m\u001b[33m\"\u001b[39m,\n\u001b[32m-> \u001b[39m\u001b[32m1940\u001b[39m             \u001b[43mcontext\u001b[49m\u001b[43m.\u001b[49m\u001b[43mrun\u001b[49m\u001b[43m(\u001b[49m\n\u001b[32m   1941\u001b[39m \u001b[43m                \u001b[49m\u001b[43mcall_func_with_variable_args\u001b[49m\u001b[43m,\u001b[49m\u001b[43m  \u001b[49m\u001b[38;5;66;43;03m# type: ignore[arg-type]\u001b[39;49;00m\n\u001b[32m   1942\u001b[39m \u001b[43m                \u001b[49m\u001b[43mfunc\u001b[49m\u001b[43m,\u001b[49m\n\u001b[32m   1943\u001b[39m \u001b[43m                \u001b[49m\u001b[43minput_\u001b[49m\u001b[43m,\u001b[49m\n\u001b[32m   1944\u001b[39m \u001b[43m                \u001b[49m\u001b[43mconfig\u001b[49m\u001b[43m,\u001b[49m\n\u001b[32m   1945\u001b[39m \u001b[43m                \u001b[49m\u001b[43mrun_manager\u001b[49m\u001b[43m,\u001b[49m\n\u001b[32m   1946\u001b[39m \u001b[43m                \u001b[49m\u001b[43m*\u001b[49m\u001b[43m*\u001b[49m\u001b[43mkwargs\u001b[49m\u001b[43m,\u001b[49m\n\u001b[32m   1947\u001b[39m \u001b[43m            \u001b[49m\u001b[43m)\u001b[49m,\n\u001b[32m   1948\u001b[39m         )\n\u001b[32m   1949\u001b[39m \u001b[38;5;28;01mexcept\u001b[39;00m \u001b[38;5;167;01mBaseException\u001b[39;00m \u001b[38;5;28;01mas\u001b[39;00m e:\n\u001b[32m   1950\u001b[39m     run_manager.on_chain_error(e)\n",
      "\u001b[36mFile \u001b[39m\u001b[32m~/study/ai-prac/.venv/lib/python3.12/site-packages/langchain_core/runnables/config.py:428\u001b[39m, in \u001b[36mcall_func_with_variable_args\u001b[39m\u001b[34m(func, input, config, run_manager, **kwargs)\u001b[39m\n\u001b[32m    426\u001b[39m \u001b[38;5;28;01mif\u001b[39;00m run_manager \u001b[38;5;129;01mis\u001b[39;00m \u001b[38;5;129;01mnot\u001b[39;00m \u001b[38;5;28;01mNone\u001b[39;00m \u001b[38;5;129;01mand\u001b[39;00m accepts_run_manager(func):\n\u001b[32m    427\u001b[39m     kwargs[\u001b[33m\"\u001b[39m\u001b[33mrun_manager\u001b[39m\u001b[33m\"\u001b[39m] = run_manager\n\u001b[32m--> \u001b[39m\u001b[32m428\u001b[39m \u001b[38;5;28;01mreturn\u001b[39;00m \u001b[43mfunc\u001b[49m\u001b[43m(\u001b[49m\u001b[38;5;28;43minput\u001b[39;49m\u001b[43m,\u001b[49m\u001b[43m \u001b[49m\u001b[43m*\u001b[49m\u001b[43m*\u001b[49m\u001b[43mkwargs\u001b[49m\u001b[43m)\u001b[49m\n",
      "\u001b[36mFile \u001b[39m\u001b[32m~/study/ai-prac/.venv/lib/python3.12/site-packages/langchain_core/output_parsers/base.py:197\u001b[39m, in \u001b[36mBaseOutputParser.invoke.<locals>.<lambda>\u001b[39m\u001b[34m(inner_input)\u001b[39m\n\u001b[32m    188\u001b[39m \u001b[38;5;129m@override\u001b[39m\n\u001b[32m    189\u001b[39m \u001b[38;5;28;01mdef\u001b[39;00m\u001b[38;5;250m \u001b[39m\u001b[34minvoke\u001b[39m(\n\u001b[32m    190\u001b[39m     \u001b[38;5;28mself\u001b[39m,\n\u001b[32m   (...)\u001b[39m\u001b[32m    193\u001b[39m     **kwargs: Any,\n\u001b[32m    194\u001b[39m ) -> T:\n\u001b[32m    195\u001b[39m     \u001b[38;5;28;01mif\u001b[39;00m \u001b[38;5;28misinstance\u001b[39m(\u001b[38;5;28minput\u001b[39m, BaseMessage):\n\u001b[32m    196\u001b[39m         \u001b[38;5;28;01mreturn\u001b[39;00m \u001b[38;5;28mself\u001b[39m._call_with_config(\n\u001b[32m--> \u001b[39m\u001b[32m197\u001b[39m             \u001b[38;5;28;01mlambda\u001b[39;00m inner_input: \u001b[38;5;28;43mself\u001b[39;49m\u001b[43m.\u001b[49m\u001b[43mparse_result\u001b[49m\u001b[43m(\u001b[49m\n\u001b[32m    198\u001b[39m \u001b[43m                \u001b[49m\u001b[43m[\u001b[49m\u001b[43mChatGeneration\u001b[49m\u001b[43m(\u001b[49m\u001b[43mmessage\u001b[49m\u001b[43m=\u001b[49m\u001b[43minner_input\u001b[49m\u001b[43m)\u001b[49m\u001b[43m]\u001b[49m\n\u001b[32m    199\u001b[39m \u001b[43m            \u001b[49m\u001b[43m)\u001b[49m,\n\u001b[32m    200\u001b[39m             \u001b[38;5;28minput\u001b[39m,\n\u001b[32m    201\u001b[39m             config,\n\u001b[32m    202\u001b[39m             run_type=\u001b[33m\"\u001b[39m\u001b[33mparser\u001b[39m\u001b[33m\"\u001b[39m,\n\u001b[32m    203\u001b[39m         )\n\u001b[32m    204\u001b[39m     \u001b[38;5;28;01mreturn\u001b[39;00m \u001b[38;5;28mself\u001b[39m._call_with_config(\n\u001b[32m    205\u001b[39m         \u001b[38;5;28;01mlambda\u001b[39;00m inner_input: \u001b[38;5;28mself\u001b[39m.parse_result([Generation(text=inner_input)]),\n\u001b[32m    206\u001b[39m         \u001b[38;5;28minput\u001b[39m,\n\u001b[32m    207\u001b[39m         config,\n\u001b[32m    208\u001b[39m         run_type=\u001b[33m\"\u001b[39m\u001b[33mparser\u001b[39m\u001b[33m\"\u001b[39m,\n\u001b[32m    209\u001b[39m     )\n",
      "\u001b[36mFile \u001b[39m\u001b[32m~/study/ai-prac/.venv/lib/python3.12/site-packages/langchain_core/output_parsers/base.py:250\u001b[39m, in \u001b[36mBaseOutputParser.parse_result\u001b[39m\u001b[34m(self, result, partial)\u001b[39m\n\u001b[32m    234\u001b[39m \u001b[38;5;129m@override\u001b[39m\n\u001b[32m    235\u001b[39m \u001b[38;5;28;01mdef\u001b[39;00m\u001b[38;5;250m \u001b[39m\u001b[34mparse_result\u001b[39m(\u001b[38;5;28mself\u001b[39m, result: \u001b[38;5;28mlist\u001b[39m[Generation], *, partial: \u001b[38;5;28mbool\u001b[39m = \u001b[38;5;28;01mFalse\u001b[39;00m) -> T:\n\u001b[32m    236\u001b[39m \u001b[38;5;250m    \u001b[39m\u001b[33;03m\"\"\"Parse a list of candidate model Generations into a specific format.\u001b[39;00m\n\u001b[32m    237\u001b[39m \n\u001b[32m    238\u001b[39m \u001b[33;03m    The return value is parsed from only the first Generation in the result, which\u001b[39;00m\n\u001b[32m   (...)\u001b[39m\u001b[32m    248\u001b[39m \u001b[33;03m        Structured output.\u001b[39;00m\n\u001b[32m    249\u001b[39m \u001b[33;03m    \"\"\"\u001b[39;00m\n\u001b[32m--> \u001b[39m\u001b[32m250\u001b[39m     \u001b[38;5;28;01mreturn\u001b[39;00m \u001b[38;5;28;43mself\u001b[39;49m\u001b[43m.\u001b[49m\u001b[43mparse\u001b[49m\u001b[43m(\u001b[49m\u001b[43mresult\u001b[49m\u001b[43m[\u001b[49m\u001b[32;43m0\u001b[39;49m\u001b[43m]\u001b[49m\u001b[43m.\u001b[49m\u001b[43mtext\u001b[49m\u001b[43m)\u001b[49m\n",
      "\u001b[36mFile \u001b[39m\u001b[32m~/study/ai-prac/.venv/lib/python3.12/site-packages/langchain_core/output_parsers/xml.py:237\u001b[39m, in \u001b[36mXMLOutputParser.parse\u001b[39m\u001b[34m(self, text)\u001b[39m\n\u001b[32m    235\u001b[39m \u001b[38;5;28;01mexcept\u001b[39;00m _et.ParseError \u001b[38;5;28;01mas\u001b[39;00m e:\n\u001b[32m    236\u001b[39m     msg = \u001b[33mf\u001b[39m\u001b[33m\"\u001b[39m\u001b[33mFailed to parse XML format from completion \u001b[39m\u001b[38;5;132;01m{\u001b[39;00mtext\u001b[38;5;132;01m}\u001b[39;00m\u001b[33m. Got: \u001b[39m\u001b[38;5;132;01m{\u001b[39;00me\u001b[38;5;132;01m}\u001b[39;00m\u001b[33m\"\u001b[39m\n\u001b[32m--> \u001b[39m\u001b[32m237\u001b[39m     \u001b[38;5;28;01mraise\u001b[39;00m OutputParserException(msg, llm_output=text) \u001b[38;5;28;01mfrom\u001b[39;00m\u001b[38;5;250m \u001b[39m\u001b[34;01me\u001b[39;00m\n",
      "\u001b[31mOutputParserException\u001b[39m: Failed to parse XML format from completion Let's talk about Langsmith!  \n\nLangsmith is an open-source platform designed to make building and deploying large language models (LLMs) more accessible and efficient. Think of it as a toolbox specifically geared towards working with these powerful AI systems.\n\n**Here are some key things to know about Langsmith:**\n\n* **Modular Approach:** Langsmith breaks down the process of LLM development into distinct modules. This means you can focus on specific tasks like fine-tuning, evaluation, or deployment without getting bogged down in complex infrastructure setup. \n* **Streamlined Workflow:** It provides a streamlined workflow for managing your models, datasets, and experiments. Imagine having a central hub to track your progress, compare different versions, and easily reproduce results.\n* **Fine-Tuning Made Easy:** Langsmith simplifies the fine-tuning process, which is crucial for adapting pre-trained LLMs to your specific use case. It offers tools and techniques to optimize this process and achieve better performance.\n* **Community-Driven:** As an open-source project, Langsmith benefits from a vibrant community of developers and researchers who contribute to its growth and improvement. This means you'll have access to support, shared resources, and a constantly evolving platform.\n\n**Why is Langsmith significant?**\n\n* **Democratization of LLMs:**  By lowering the barriers to entry, Langsmith empowers more individuals and organizations to explore and leverage the potential of LLMs.\n* **Accelerated Research:** Its modularity and efficiency can significantly speed up the research and development cycle for LLM applications.\n* **Transparency and Reproducibility:** The open-source nature of Langsmith promotes transparency and reproducibility in LLM development, leading to more robust and trustworthy models.\n\n\nLet me know if you have any more questions about Langsmith or want to delve deeper into specific aspects!. Got: not well-formed (invalid token): line 1, column 3\nFor troubleshooting, visit: https://python.langchain.com/docs/troubleshooting/errors/OUTPUT_PARSING_FAILURE "
     ]
    }
   ],
   "source": [
    "chain=prompt|model|output_parser\n",
    "response=chain.invoke({\"input\":\"Can you tell me about Langsmith?\"})\n",
    "print(response)"
   ]
  }
 ],
 "metadata": {
  "kernelspec": {
   "display_name": ".venv",
   "language": "python",
   "name": "python3"
  },
  "language_info": {
   "codemirror_mode": {
    "name": "ipython",
    "version": 3
   },
   "file_extension": ".py",
   "mimetype": "text/x-python",
   "name": "python",
   "nbconvert_exporter": "python",
   "pygments_lexer": "ipython3",
   "version": "3.12.3"
  }
 },
 "nbformat": 4,
 "nbformat_minor": 5
}
