{
 "cells": [
  {
   "cell_type": "code",
   "execution_count": 33,
   "id": "9e1b48c8",
   "metadata": {},
   "outputs": [],
   "source": [
    "from pydantic import Field, BaseModel\n",
    "import os\n",
    "from dotenv import load_dotenv\n",
    "load_dotenv()\n",
    "os.environ[\"OPENAI_API_KEY\"]=os.getenv(\"OPENAI_API_KEY\")\n",
    "os.environ[\"GROQ_API_KEY\"]=os.getenv(\"GROQ_API_KEY\")\n",
    "\n",
    "## Langsmith Tracking And Tracing\n",
    "os.environ[\"LANGCHAIN_API_KEY\"]=os.getenv(\"LANGCHAIN_API_KEY\")\n",
    "os.environ[\"LANGCHAIN_PROJECT\"]=os.getenv(\"LANGCHAIN_PROJECT\")\n",
    "os.environ[\"LANGCHAIN_TRACING_V2\"]=\"true\"\n"
   ]
  },
  {
   "cell_type": "code",
   "execution_count": 34,
   "id": "3beac4fc",
   "metadata": {},
   "outputs": [],
   "source": [
    "class Product(BaseModel):\n",
    "    name:str=Field(description=\"Provide actual name of the product\")\n",
    "    details: str = Field(max_length=200,description=\"A small summary of the product\")\n",
    "    price: int = Field(description=\"provide tentative price of the product in USDwith doller sign\")\n",
    "    "
   ]
  },
  {
   "cell_type": "code",
   "execution_count": 35,
   "id": "c11077c3",
   "metadata": {},
   "outputs": [
    {
     "data": {
      "text/plain": [
       "ChatGroq(client=<groq.resources.chat.completions.Completions object at 0x118b47e60>, async_client=<groq.resources.chat.completions.AsyncCompletions object at 0x118b4e690>, model_name='qwen-qwq-32b', model_kwargs={}, groq_api_key=SecretStr('**********'))"
      ]
     },
     "execution_count": 35,
     "metadata": {},
     "output_type": "execute_result"
    }
   ],
   "source": [
    "from langchain_groq import ChatGroq\n",
    "model=ChatGroq(model=\"qwen-qwq-32b\")\n",
    "model"
   ]
  },
  {
   "cell_type": "code",
   "execution_count": null,
   "id": "34884c15",
   "metadata": {},
   "outputs": [],
   "source": []
  },
  {
   "cell_type": "code",
   "execution_count": 36,
   "id": "450a1cb6",
   "metadata": {},
   "outputs": [],
   "source": [
    "from langchain_core.output_parsers import JsonOutputParser,StrOutputParser,PydanticOutputParser\n",
    "output_parser=JsonOutputParser(pydantic_object=Product)\n",
    "# format_instructions =  output_parser.get_format_instructions()\n",
    "\n"
   ]
  },
  {
   "cell_type": "code",
   "execution_count": 37,
   "id": "592709b4",
   "metadata": {},
   "outputs": [],
   "source": [
    "from langchain_core.prompts import ChatPromptTemplate\n",
    "prompt=ChatPromptTemplate(\n",
    "    [\n",
    "    (\"system\", \"You are a sales helpful assistant. provide details for asked products in json{format_instruction}\"),\n",
    "    (\"human\",\"{product}\"),\n",
    "    \n",
    "    ]\n",
    ")\n",
    "\n",
    "prompt1=prompt.partial(format_instruction=output_parser.get_format_instructions())"
   ]
  },
  {
   "cell_type": "code",
   "execution_count": 38,
   "id": "48af9b55",
   "metadata": {},
   "outputs": [
    {
     "data": {
      "text/plain": [
       "JsonOutputParser(pydantic_object=<class '__main__.Product'>)"
      ]
     },
     "execution_count": 38,
     "metadata": {},
     "output_type": "execute_result"
    }
   ],
   "source": [
    "output_parser"
   ]
  },
  {
   "cell_type": "code",
   "execution_count": 39,
   "id": "bc8b61b4",
   "metadata": {},
   "outputs": [
    {
     "data": {
      "text/plain": [
       "ChatPromptTemplate(input_variables=['product'], input_types={}, partial_variables={'format_instruction': 'The output should be formatted as a JSON instance that conforms to the JSON schema below.\\n\\nAs an example, for the schema {\"properties\": {\"foo\": {\"title\": \"Foo\", \"description\": \"a list of strings\", \"type\": \"array\", \"items\": {\"type\": \"string\"}}}, \"required\": [\"foo\"]}\\nthe object {\"foo\": [\"bar\", \"baz\"]} is a well-formatted instance of the schema. The object {\"properties\": {\"foo\": [\"bar\", \"baz\"]}} is not well-formatted.\\n\\nHere is the output schema:\\n```\\n{\"properties\": {\"name\": {\"description\": \"Provide actual name of the product\", \"title\": \"Name\", \"type\": \"string\"}, \"details\": {\"description\": \"A small summary of the product\", \"maxLength\": 200, \"title\": \"Details\", \"type\": \"string\"}, \"price\": {\"description\": \"provide tentative price of the product in USDwith doller sign\", \"title\": \"Price\", \"type\": \"integer\"}}, \"required\": [\"name\", \"details\", \"price\"]}\\n```'}, messages=[SystemMessagePromptTemplate(prompt=PromptTemplate(input_variables=['format_instruction'], input_types={}, partial_variables={}, template='You are a sales helpful assistant. provide details for asked products in json{format_instruction}'), additional_kwargs={}), HumanMessagePromptTemplate(prompt=PromptTemplate(input_variables=['product'], input_types={}, partial_variables={}, template='{product}'), additional_kwargs={})])\n",
       "| ChatGroq(client=<groq.resources.chat.completions.Completions object at 0x118b47e60>, async_client=<groq.resources.chat.completions.AsyncCompletions object at 0x118b4e690>, model_name='qwen-qwq-32b', model_kwargs={}, groq_api_key=SecretStr('**********'))\n",
       "| JsonOutputParser(pydantic_object=<class '__main__.Product'>)"
      ]
     },
     "execution_count": 39,
     "metadata": {},
     "output_type": "execute_result"
    }
   ],
   "source": [
    "chain=prompt1|model|output_parser\n",
    "chain"
   ]
  },
  {
   "cell_type": "code",
   "execution_count": 40,
   "id": "48278a10",
   "metadata": {},
   "outputs": [
    {
     "name": "stdout",
     "output_type": "stream",
     "text": [
      "{'name': 'iPhone 15', 'details': 'The iPhone 15 features a durable titanium frame, a 48MP main camera with improved low-light performance, and introduces new color options like Blue. Powered by the A17 Pro chip, it delivers enhanced performance and efficiency.', 'price': 799}\n"
     ]
    }
   ],
   "source": [
    "print(chain.invoke({\"product\":\"iPhone 15\"}))\n"
   ]
  }
 ],
 "metadata": {
  "kernelspec": {
   "display_name": ".venv",
   "language": "python",
   "name": "python3"
  },
  "language_info": {
   "codemirror_mode": {
    "name": "ipython",
    "version": 3
   },
   "file_extension": ".py",
   "mimetype": "text/x-python",
   "name": "python",
   "nbconvert_exporter": "python",
   "pygments_lexer": "ipython3",
   "version": "3.12.3"
  }
 },
 "nbformat": 4,
 "nbformat_minor": 5
}
