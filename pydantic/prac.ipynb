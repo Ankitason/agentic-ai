{
 "cells": [
  {
   "cell_type": "code",
   "execution_count": 3,
   "id": "eae37ab9",
   "metadata": {},
   "outputs": [],
   "source": [
    "from dataclasses import dataclass\n",
    "\n",
    "@dataclass\n",
    "class person():\n",
    "    id:int\n",
    "    name:str\n",
    "    "
   ]
  },
  {
   "cell_type": "code",
   "execution_count": 6,
   "id": "589b63eb",
   "metadata": {},
   "outputs": [],
   "source": [
    "person1=person(id=\"1\",name=\"dgdj\")"
   ]
  },
  {
   "cell_type": "code",
   "execution_count": 7,
   "id": "f80625f2",
   "metadata": {},
   "outputs": [
    {
     "data": {
      "text/plain": [
       "person(id='1', name='dgdj')"
      ]
     },
     "execution_count": 7,
     "metadata": {},
     "output_type": "execute_result"
    }
   ],
   "source": [
    "person1"
   ]
  },
  {
   "cell_type": "code",
   "execution_count": 10,
   "id": "7a9a37db",
   "metadata": {},
   "outputs": [],
   "source": [
    "from pydantic import BaseModel"
   ]
  },
  {
   "cell_type": "code",
   "execution_count": 11,
   "id": "ccd033bc",
   "metadata": {},
   "outputs": [],
   "source": [
    "class person(BaseModel):\n",
    "    id:int\n",
    "    name:str "
   ]
  },
  {
   "cell_type": "code",
   "execution_count": 15,
   "id": "97777acb",
   "metadata": {},
   "outputs": [
    {
     "data": {
      "text/plain": [
       "person(id=1, name='dgdj')"
      ]
     },
     "execution_count": 15,
     "metadata": {},
     "output_type": "execute_result"
    }
   ],
   "source": [
    "person1=person(id=\"1\",name=\"dgdj\")\n",
    "person1"
   ]
  },
  {
   "cell_type": "code",
   "execution_count": 18,
   "id": "ad36d3d8",
   "metadata": {},
   "outputs": [],
   "source": [
    "from typing import Optional\n",
    "class person(BaseModel):\n",
    "    id:int\n",
    "    name:str\n",
    "    salary:Optional[float]=None"
   ]
  },
  {
   "cell_type": "code",
   "execution_count": 19,
   "id": "b6abc6f0",
   "metadata": {},
   "outputs": [
    {
     "data": {
      "text/plain": [
       "person(id=1, name='dgdj', salary=None)"
      ]
     },
     "execution_count": 19,
     "metadata": {},
     "output_type": "execute_result"
    }
   ],
   "source": [
    "person1=person(id=\"1\",name=\"dgdj\")\n",
    "person1"
   ]
  },
  {
   "cell_type": "code",
   "execution_count": 20,
   "id": "b70ce2bc",
   "metadata": {},
   "outputs": [],
   "source": [
    "from pydantic import BaseModel, Field\n",
    "class person(BaseModel):\n",
    "    id:int\n",
    "    name:str=Field(min_length=2,max_length=50)\n",
    "    salary:Optional[float]=None"
   ]
  },
  {
   "cell_type": "code",
   "execution_count": 23,
   "id": "55245e1f",
   "metadata": {},
   "outputs": [
    {
     "ename": "ValidationError",
     "evalue": "1 validation error for person\nname\n  String should have at least 2 characters [type=string_too_short, input_value='d', input_type=str]\n    For further information visit https://errors.pydantic.dev/2.11/v/string_too_short",
     "output_type": "error",
     "traceback": [
      "\u001b[31m---------------------------------------------------------------------------\u001b[39m",
      "\u001b[31mValidationError\u001b[39m                           Traceback (most recent call last)",
      "\u001b[36mCell\u001b[39m\u001b[36m \u001b[39m\u001b[32mIn[23]\u001b[39m\u001b[32m, line 1\u001b[39m\n\u001b[32m----> \u001b[39m\u001b[32m1\u001b[39m person1=\u001b[43mperson\u001b[49m\u001b[43m(\u001b[49m\u001b[38;5;28;43mid\u001b[39;49m\u001b[43m=\u001b[49m\u001b[33;43m\"\u001b[39;49m\u001b[33;43m1\u001b[39;49m\u001b[33;43m\"\u001b[39;49m\u001b[43m,\u001b[49m\u001b[43mname\u001b[49m\u001b[43m=\u001b[49m\u001b[33;43m\"\u001b[39;49m\u001b[33;43md\u001b[39;49m\u001b[33;43m\"\u001b[39;49m\u001b[43m)\u001b[49m\n\u001b[32m      2\u001b[39m person1\n",
      "\u001b[36mFile \u001b[39m\u001b[32m~/study/ai-prac/ai/lib/python3.13/site-packages/pydantic/main.py:253\u001b[39m, in \u001b[36mBaseModel.__init__\u001b[39m\u001b[34m(self, **data)\u001b[39m\n\u001b[32m    251\u001b[39m \u001b[38;5;66;03m# `__tracebackhide__` tells pytest and some other tools to omit this function from tracebacks\u001b[39;00m\n\u001b[32m    252\u001b[39m __tracebackhide__ = \u001b[38;5;28;01mTrue\u001b[39;00m\n\u001b[32m--> \u001b[39m\u001b[32m253\u001b[39m validated_self = \u001b[38;5;28;43mself\u001b[39;49m\u001b[43m.\u001b[49m\u001b[43m__pydantic_validator__\u001b[49m\u001b[43m.\u001b[49m\u001b[43mvalidate_python\u001b[49m\u001b[43m(\u001b[49m\u001b[43mdata\u001b[49m\u001b[43m,\u001b[49m\u001b[43m \u001b[49m\u001b[43mself_instance\u001b[49m\u001b[43m=\u001b[49m\u001b[38;5;28;43mself\u001b[39;49m\u001b[43m)\u001b[49m\n\u001b[32m    254\u001b[39m \u001b[38;5;28;01mif\u001b[39;00m \u001b[38;5;28mself\u001b[39m \u001b[38;5;129;01mis\u001b[39;00m \u001b[38;5;129;01mnot\u001b[39;00m validated_self:\n\u001b[32m    255\u001b[39m     warnings.warn(\n\u001b[32m    256\u001b[39m         \u001b[33m'\u001b[39m\u001b[33mA custom validator is returning a value other than `self`.\u001b[39m\u001b[38;5;130;01m\\n\u001b[39;00m\u001b[33m'\u001b[39m\n\u001b[32m    257\u001b[39m         \u001b[33m\"\u001b[39m\u001b[33mReturning anything other than `self` from a top level model validator isn\u001b[39m\u001b[33m'\u001b[39m\u001b[33mt supported when validating via `__init__`.\u001b[39m\u001b[38;5;130;01m\\n\u001b[39;00m\u001b[33m\"\u001b[39m\n\u001b[32m    258\u001b[39m         \u001b[33m'\u001b[39m\u001b[33mSee the `model_validator` docs (https://docs.pydantic.dev/latest/concepts/validators/#model-validators) for more details.\u001b[39m\u001b[33m'\u001b[39m,\n\u001b[32m    259\u001b[39m         stacklevel=\u001b[32m2\u001b[39m,\n\u001b[32m    260\u001b[39m     )\n",
      "\u001b[31mValidationError\u001b[39m: 1 validation error for person\nname\n  String should have at least 2 characters [type=string_too_short, input_value='d', input_type=str]\n    For further information visit https://errors.pydantic.dev/2.11/v/string_too_short"
     ]
    }
   ],
   "source": [
    "person1=person(id=\"1\",name=\"d\")\n",
    "person1"
   ]
  },
  {
   "cell_type": "code",
   "execution_count": 28,
   "id": "b3d41fa8",
   "metadata": {},
   "outputs": [
    {
     "name": "stdout",
     "output_type": "stream",
     "text": [
      "username='alice' age=18 email=datetime.datetime(2025, 5, 19, 10, 35, 42, 99539)\n"
     ]
    }
   ],
   "source": [
    "from datetime import datetime\n",
    "class User(BaseModel):\n",
    "    username:str=Field(description=\"Unique username for the user\")\n",
    "    age:int=Field(default=18,description=\"User age default to 18 \")\n",
    "    email:str= Field(default_factory=datetime.utcnow,description=\"Default email address\")\n",
    "\n",
    "\n",
    "# Examples\n",
    "user1 = User(username=\"alice\")\n",
    "print(user1)"
   ]
  },
  {
   "cell_type": "code",
   "execution_count": 27,
   "id": "ee30e15d",
   "metadata": {},
   "outputs": [
    {
     "name": "stdout",
     "output_type": "stream",
     "text": [
      "username='alice1' age=18 email=[]\n"
     ]
    }
   ],
   "source": [
    "user2 = User(username=\"alice1\")\n",
    "print(user2)"
   ]
  },
  {
   "cell_type": "code",
   "execution_count": 29,
   "id": "763cd19c",
   "metadata": {},
   "outputs": [
    {
     "data": {
      "text/plain": [
       "{'properties': {'username': {'description': 'Unique username for the user',\n",
       "   'title': 'Username',\n",
       "   'type': 'string'},\n",
       "  'age': {'default': 18,\n",
       "   'description': 'User age default to 18 ',\n",
       "   'title': 'Age',\n",
       "   'type': 'integer'},\n",
       "  'email': {'description': 'Default email address',\n",
       "   'title': 'Email',\n",
       "   'type': 'string'}},\n",
       " 'required': ['username'],\n",
       " 'title': 'User',\n",
       " 'type': 'object'}"
      ]
     },
     "execution_count": 29,
     "metadata": {},
     "output_type": "execute_result"
    }
   ],
   "source": [
    "User.model_json_schema()"
   ]
  },
  {
   "cell_type": "code",
   "execution_count": 9,
   "id": "6638eb34",
   "metadata": {},
   "outputs": [],
   "source": [
    "from pydantic import EmailStr, BaseModel, Field\n",
    "class Employee(BaseModel):\n",
    "    email:EmailStr\n",
    "    username:str=Field(default_factory=lambda data:data['email'].split(\"@\")[0])"
   ]
  },
  {
   "cell_type": "code",
   "execution_count": 11,
   "id": "0954c6a5",
   "metadata": {},
   "outputs": [
    {
     "name": "stdout",
     "output_type": "stream",
     "text": [
      "email='user@example.com' username='user'\n"
     ]
    }
   ],
   "source": [
    "user = Employee(email='user@example.com')\n",
    "print(user)"
   ]
  },
  {
   "cell_type": "code",
   "execution_count": 12,
   "id": "5ceab5f4",
   "metadata": {},
   "outputs": [
    {
     "name": "stdout",
     "output_type": "stream",
     "text": [
      "email='ankita@example.com' username='ankita'\n"
     ]
    }
   ],
   "source": [
    "user = Employee(email='ankita@example.com')\n",
    "print(user)"
   ]
  },
  {
   "cell_type": "code",
   "execution_count": null,
   "id": "668a64cb",
   "metadata": {},
   "outputs": [],
   "source": [
    "from pydantic import validator\n",
    "\n",
    "class Product(BaseModel):\n",
    "    name: str\n",
    "    price: float\n",
    "\n",
    "    @validator(\"price\")\n",
    "    def must_be_positive(cls, v):\n",
    "        if v < 0:\n",
    "            raise ValueError(\"Price must be positive\")\n",
    "        return v\n",
    "\n",
    "product = Product(name=\"Phone\", price=199.99)\n"
   ]
  },
  {
   "cell_type": "markdown",
   "id": "b487c13f",
   "metadata": {},
   "source": []
  }
 ],
 "metadata": {
  "kernelspec": {
   "display_name": "ai",
   "language": "python",
   "name": "python3"
  },
  "language_info": {
   "codemirror_mode": {
    "name": "ipython",
    "version": 3
   },
   "file_extension": ".py",
   "mimetype": "text/x-python",
   "name": "python",
   "nbconvert_exporter": "python",
   "pygments_lexer": "ipython3",
   "version": "3.13.2"
  }
 },
 "nbformat": 4,
 "nbformat_minor": 5
}
